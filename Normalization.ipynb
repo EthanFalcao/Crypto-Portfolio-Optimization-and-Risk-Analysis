{
 "cells": [
  {
   "cell_type": "markdown",
   "metadata": {},
   "source": [
    "## Normalization\n",
    "Adjust the data to a common scale without distorting differences in the ranges of values. "
   ]
  },
  {
   "cell_type": "code",
   "execution_count": 1,
   "metadata": {},
   "outputs": [],
   "source": [
    "from joblib import dump\n",
    "import yfinance as yf\n",
    "import pandas as pd"
   ]
  },
  {
   "cell_type": "code",
   "execution_count": 2,
   "metadata": {},
   "outputs": [],
   "source": [
    "df=pd.read_csv('data/top_crypto.csv', sep=\",\")\n",
    "df['Date'] = pd.to_datetime(df['Date'])"
   ]
  },
  {
   "cell_type": "code",
   "execution_count": 3,
   "metadata": {},
   "outputs": [
    {
     "data": {
      "text/html": [
       "<div>\n",
       "<style scoped>\n",
       "    .dataframe tbody tr th:only-of-type {\n",
       "        vertical-align: middle;\n",
       "    }\n",
       "\n",
       "    .dataframe tbody tr th {\n",
       "        vertical-align: top;\n",
       "    }\n",
       "\n",
       "    .dataframe thead th {\n",
       "        text-align: right;\n",
       "    }\n",
       "</style>\n",
       "<table border=\"1\" class=\"dataframe\">\n",
       "  <thead>\n",
       "    <tr style=\"text-align: right;\">\n",
       "      <th></th>\n",
       "      <th>Date</th>\n",
       "      <th>Open</th>\n",
       "      <th>High</th>\n",
       "      <th>Low</th>\n",
       "      <th>Close</th>\n",
       "      <th>Adj Close</th>\n",
       "      <th>Volume($)</th>\n",
       "      <th>Symbol</th>\n",
       "      <th>Daily Return</th>\n",
       "    </tr>\n",
       "  </thead>\n",
       "  <tbody>\n",
       "    <tr>\n",
       "      <th>0</th>\n",
       "      <td>2020-09-01</td>\n",
       "      <td>0.172899</td>\n",
       "      <td>0.175420</td>\n",
       "      <td>0.174763</td>\n",
       "      <td>0.177165</td>\n",
       "      <td>0.177165</td>\n",
       "      <td>0.077818</td>\n",
       "      <td>BTC</td>\n",
       "      <td>NaN</td>\n",
       "    </tr>\n",
       "    <tr>\n",
       "      <th>1</th>\n",
       "      <td>2020-09-02</td>\n",
       "      <td>0.177126</td>\n",
       "      <td>0.173934</td>\n",
       "      <td>0.170088</td>\n",
       "      <td>0.168930</td>\n",
       "      <td>0.168930</td>\n",
       "      <td>0.079886</td>\n",
       "      <td>BTC</td>\n",
       "      <td>0.094716</td>\n",
       "    </tr>\n",
       "    <tr>\n",
       "      <th>2</th>\n",
       "      <td>2020-09-03</td>\n",
       "      <td>0.168871</td>\n",
       "      <td>0.166348</td>\n",
       "      <td>0.153392</td>\n",
       "      <td>0.151632</td>\n",
       "      <td>0.151632</td>\n",
       "      <td>0.090969</td>\n",
       "      <td>BTC</td>\n",
       "      <td>0.080664</td>\n",
       "    </tr>\n",
       "    <tr>\n",
       "      <th>3</th>\n",
       "      <td>2020-09-04</td>\n",
       "      <td>0.151449</td>\n",
       "      <td>0.155022</td>\n",
       "      <td>0.153776</td>\n",
       "      <td>0.155577</td>\n",
       "      <td>0.155577</td>\n",
       "      <td>0.085379</td>\n",
       "      <td>BTC</td>\n",
       "      <td>0.112937</td>\n",
       "    </tr>\n",
       "    <tr>\n",
       "      <th>4</th>\n",
       "      <td>2020-09-05</td>\n",
       "      <td>0.155626</td>\n",
       "      <td>0.153825</td>\n",
       "      <td>0.149840</td>\n",
       "      <td>0.150511</td>\n",
       "      <td>0.150511</td>\n",
       "      <td>0.127979</td>\n",
       "      <td>BTC</td>\n",
       "      <td>0.098216</td>\n",
       "    </tr>\n",
       "  </tbody>\n",
       "</table>\n",
       "</div>"
      ],
      "text/plain": [
       "        Date      Open      High       Low     Close  Adj Close  Volume($)  \\\n",
       "0 2020-09-01  0.172899  0.175420  0.174763  0.177165   0.177165   0.077818   \n",
       "1 2020-09-02  0.177126  0.173934  0.170088  0.168930   0.168930   0.079886   \n",
       "2 2020-09-03  0.168871  0.166348  0.153392  0.151632   0.151632   0.090969   \n",
       "3 2020-09-04  0.151449  0.155022  0.153776  0.155577   0.155577   0.085379   \n",
       "4 2020-09-05  0.155626  0.153825  0.149840  0.150511   0.150511   0.127979   \n",
       "\n",
       "  Symbol  Daily Return  \n",
       "0    BTC           NaN  \n",
       "1    BTC      0.094716  \n",
       "2    BTC      0.080664  \n",
       "3    BTC      0.112937  \n",
       "4    BTC      0.098216  "
      ]
     },
     "execution_count": 3,
     "metadata": {},
     "output_type": "execute_result"
    }
   ],
   "source": [
    "from sklearn.preprocessing import MinMaxScaler\n",
    "\n",
    "\n",
    "columns_to_normalize = ['Open', 'High', 'Low', 'Close', 'Adj Close', 'Volume($)', 'Daily Return']\n",
    "\n",
    "scaler = MinMaxScaler()\n",
    "\n",
    "\n",
    "# Applying the scaler to the selected columns\n",
    "df[columns_to_normalize] = scaler.fit_transform(df[columns_to_normalize])\n",
    "\n",
    "dump(scaler, 'min_max_scaler.joblib')\n",
    "\n",
    "df.head()"
   ]
  },
  {
   "cell_type": "code",
   "execution_count": 4,
   "metadata": {},
   "outputs": [],
   "source": [
    "df.to_csv('data/crypto_nomalized.csv', index=False)"
   ]
  }
 ],
 "metadata": {
  "kernelspec": {
   "display_name": "Python 3",
   "language": "python",
   "name": "python3"
  },
  "language_info": {
   "codemirror_mode": {
    "name": "ipython",
    "version": 3
   },
   "file_extension": ".py",
   "mimetype": "text/x-python",
   "name": "python",
   "nbconvert_exporter": "python",
   "pygments_lexer": "ipython3",
   "version": "3.12.3"
  }
 },
 "nbformat": 4,
 "nbformat_minor": 2
}

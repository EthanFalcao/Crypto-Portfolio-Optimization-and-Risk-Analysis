{
 "cells": [
  {
   "cell_type": "markdown",
   "metadata": {},
   "source": [
    "## Normalization\n",
    "Adjust the data to a common scale without distorting differences in the ranges of values. "
   ]
  },
  {
   "cell_type": "code",
   "execution_count": 1,
   "metadata": {},
   "outputs": [],
   "source": [
    "from joblib import dump\n",
    "import yfinance as yf\n",
    "import pandas as pd"
   ]
  },
  {
   "cell_type": "code",
   "execution_count": 2,
   "metadata": {},
   "outputs": [],
   "source": [
    "df=pd.read_csv('data/top_crypto.csv', sep=\",\")\n",
    "df['Date'] = pd.to_datetime(df['Date'])"
   ]
  },
  {
   "cell_type": "code",
   "execution_count": 3,
   "metadata": {},
   "outputs": [
    {
     "data": {
      "text/html": [
       "<div>\n",
       "<style scoped>\n",
       "    .dataframe tbody tr th:only-of-type {\n",
       "        vertical-align: middle;\n",
       "    }\n",
       "\n",
       "    .dataframe tbody tr th {\n",
       "        vertical-align: top;\n",
       "    }\n",
       "\n",
       "    .dataframe thead th {\n",
       "        text-align: right;\n",
       "    }\n",
       "</style>\n",
       "<table border=\"1\" class=\"dataframe\">\n",
       "  <thead>\n",
       "    <tr style=\"text-align: right;\">\n",
       "      <th></th>\n",
       "      <th>Date</th>\n",
       "      <th>Open</th>\n",
       "      <th>High</th>\n",
       "      <th>Low</th>\n",
       "      <th>Close</th>\n",
       "      <th>Adj Close</th>\n",
       "      <th>Volume($)</th>\n",
       "      <th>Symbol</th>\n",
       "      <th>Daily Return</th>\n",
       "    </tr>\n",
       "  </thead>\n",
       "  <tbody>\n",
       "    <tr>\n",
       "      <th>0</th>\n",
       "      <td>2021-01-01</td>\n",
       "      <td>0.429225</td>\n",
       "      <td>0.430307</td>\n",
       "      <td>0.433906</td>\n",
       "      <td>0.434742</td>\n",
       "      <td>0.434742</td>\n",
       "      <td>0.116051</td>\n",
       "      <td>BTC</td>\n",
       "      <td>0.109507</td>\n",
       "    </tr>\n",
       "    <tr>\n",
       "      <th>1</th>\n",
       "      <td>2021-01-02</td>\n",
       "      <td>0.434886</td>\n",
       "      <td>0.481978</td>\n",
       "      <td>0.438239</td>\n",
       "      <td>0.475489</td>\n",
       "      <td>0.475489</td>\n",
       "      <td>0.193366</td>\n",
       "      <td>BTC</td>\n",
       "      <td>0.129839</td>\n",
       "    </tr>\n",
       "    <tr>\n",
       "      <th>2</th>\n",
       "      <td>2021-01-03</td>\n",
       "      <td>0.475641</td>\n",
       "      <td>0.503107</td>\n",
       "      <td>0.482846</td>\n",
       "      <td>0.485179</td>\n",
       "      <td>0.485179</td>\n",
       "      <td>0.224138</td>\n",
       "      <td>BTC</td>\n",
       "      <td>0.111402</td>\n",
       "    </tr>\n",
       "    <tr>\n",
       "      <th>3</th>\n",
       "      <td>2021-01-04</td>\n",
       "      <td>0.485730</td>\n",
       "      <td>0.486123</td>\n",
       "      <td>0.432688</td>\n",
       "      <td>0.473189</td>\n",
       "      <td>0.473189</td>\n",
       "      <td>0.231256</td>\n",
       "      <td>BTC</td>\n",
       "      <td>0.100068</td>\n",
       "    </tr>\n",
       "    <tr>\n",
       "      <th>4</th>\n",
       "      <td>2021-01-05</td>\n",
       "      <td>0.473385</td>\n",
       "      <td>0.500622</td>\n",
       "      <td>0.455261</td>\n",
       "      <td>0.503093</td>\n",
       "      <td>0.503093</td>\n",
       "      <td>0.192460</td>\n",
       "      <td>BTC</td>\n",
       "      <td>0.122165</td>\n",
       "    </tr>\n",
       "  </tbody>\n",
       "</table>\n",
       "</div>"
      ],
      "text/plain": [
       "        Date      Open      High       Low     Close  Adj Close  Volume($)  \\\n",
       "0 2021-01-01  0.429225  0.430307  0.433906  0.434742   0.434742   0.116051   \n",
       "1 2021-01-02  0.434886  0.481978  0.438239  0.475489   0.475489   0.193366   \n",
       "2 2021-01-03  0.475641  0.503107  0.482846  0.485179   0.485179   0.224138   \n",
       "3 2021-01-04  0.485730  0.486123  0.432688  0.473189   0.473189   0.231256   \n",
       "4 2021-01-05  0.473385  0.500622  0.455261  0.503093   0.503093   0.192460   \n",
       "\n",
       "  Symbol  Daily Return  \n",
       "0    BTC      0.109507  \n",
       "1    BTC      0.129839  \n",
       "2    BTC      0.111402  \n",
       "3    BTC      0.100068  \n",
       "4    BTC      0.122165  "
      ]
     },
     "execution_count": 3,
     "metadata": {},
     "output_type": "execute_result"
    }
   ],
   "source": [
    "from sklearn.preprocessing import MinMaxScaler\n",
    "\n",
    "# Selecting the columns to be normalized\n",
    "columns_to_normalize = ['Open', 'High', 'Low', 'Close', 'Adj Close', 'Volume($)', 'Daily Return']\n",
    "\n",
    "# Initializing the MinMaxScaler\n",
    "scaler = MinMaxScaler()\n",
    "\n",
    "\n",
    "# Applying the scaler to the selected columns\n",
    "df[columns_to_normalize] = scaler.fit_transform(df[columns_to_normalize])\n",
    "\n",
    "# Assuming `scaler` is your MinMaxScaler object\n",
    "dump(scaler, 'min_max_scaler.joblib')\n",
    "\n",
    "\n",
    "# Displaying the first few rows of the normalized dataset to verify the changes\n",
    "df.head()"
   ]
  },
  {
   "cell_type": "code",
   "execution_count": 4,
   "metadata": {},
   "outputs": [],
   "source": [
    "df.to_csv('data/crypto_nomalized.csv', index=False)"
   ]
  }
 ],
 "metadata": {
  "kernelspec": {
   "display_name": "Python 3",
   "language": "python",
   "name": "python3"
  },
  "language_info": {
   "codemirror_mode": {
    "name": "ipython",
    "version": 3
   },
   "file_extension": ".py",
   "mimetype": "text/x-python",
   "name": "python",
   "nbconvert_exporter": "python",
   "pygments_lexer": "ipython3",
   "version": "3.9.13"
  }
 },
 "nbformat": 4,
 "nbformat_minor": 2
}

{
 "cells": [
  {
   "cell_type": "code",
   "execution_count": 52,
   "metadata": {},
   "outputs": [
    {
     "name": "stdout",
     "output_type": "stream",
     "text": [
      "Requirement already satisfied: conf in c:\\users\\ethan\\appdata\\local\\packages\\pythonsoftwarefoundation.python.3.9_qbz5n2kfra8p0\\localcache\\local-packages\\python39\\site-packages (0.4.1)Note: you may need to restart the kernel to use updated packages.\n",
      "\n"
     ]
    },
    {
     "name": "stderr",
     "output_type": "stream",
     "text": [
      "\n",
      "[notice] A new release of pip is available: 23.2.1 -> 24.0\n",
      "[notice] To update, run: C:\\Users\\ethan\\AppData\\Local\\Microsoft\\WindowsApps\\PythonSoftwareFoundation.Python.3.9_qbz5n2kfra8p0\\python.exe -m pip install --upgrade pip\n"
     ]
    }
   ],
   "source": [
    "pip install conf"
   ]
  },
  {
   "cell_type": "markdown",
   "metadata": {},
   "source": [
    "### Top Crypto's"
   ]
  },
  {
   "cell_type": "code",
   "execution_count": 53,
   "metadata": {},
   "outputs": [
    {
     "data": {
      "text/plain": [
       "['bitcoin',\n",
       " 'ethereum',\n",
       " 'tether',\n",
       " 'binancecoin',\n",
       " 'solana',\n",
       " 'ripple',\n",
       " 'staked-ether',\n",
       " 'usd-coin',\n",
       " 'cardano',\n",
       " 'avalanche-2',\n",
       " 'tron',\n",
       " 'dogecoin',\n",
       " 'chainlink',\n",
       " 'polkadot',\n",
       " 'matic-network',\n",
       " 'wrapped-bitcoin',\n",
       " 'the-open-network',\n",
       " 'internet-computer',\n",
       " 'shiba-inu',\n",
       " 'uniswap',\n",
       " 'bitcoin-cash',\n",
       " 'litecoin',\n",
       " 'dai',\n",
       " 'immutable-x',\n",
       " 'kaspa',\n",
       " 'bittensor',\n",
       " 'cosmos',\n",
       " 'leo-token',\n",
       " 'blockstack',\n",
       " 'filecoin']"
      ]
     },
     "execution_count": 53,
     "metadata": {},
     "output_type": "execute_result"
    }
   ],
   "source": [
    "import requests\n",
    "import pandas as pd\n",
    "\n",
    "def fetch_top_coins_list(vs_currency='usd', limit=30):\n",
    "    url = 'https://api.coingecko.com/api/v3/coins/markets'\n",
    "    params = {\n",
    "        'vs_currency': vs_currency,\n",
    "        'order': 'market_cap_desc',\n",
    "        'per_page': limit,\n",
    "        'page': 1,\n",
    "        'sparkline': False,\n",
    "        'price_change_percentage': '24h'\n",
    "    }\n",
    "    response = requests.get(url, params=params)\n",
    "    data = response.json()\n",
    "    \n",
    "    # Extract coin IDs\n",
    "    coin_ids = [coin['id'] for coin in data]\n",
    "    return coin_ids\n",
    "\n",
    "\n",
    "# Fetch top 30 coins\n",
    "top_coins = fetch_top_coins_list()\n",
    "top_coins"
   ]
  },
  {
   "cell_type": "code",
   "execution_count": 55,
   "metadata": {},
   "outputs": [
    {
     "ename": "ModuleNotFoundError",
     "evalue": "No module named 'coinmarketcapapi'",
     "output_type": "error",
     "traceback": [
      "\u001b[1;31m---------------------------------------------------------------------------\u001b[0m",
      "\u001b[1;31mModuleNotFoundError\u001b[0m                       Traceback (most recent call last)",
      "Cell \u001b[1;32mIn[55], line 1\u001b[0m\n\u001b[1;32m----> 1\u001b[0m \u001b[38;5;28;01mfrom\u001b[39;00m \u001b[38;5;21;01mcoinmarketcapapi\u001b[39;00m \u001b[38;5;28;01mimport\u001b[39;00m CoinMarketCapAPI\n\u001b[0;32m      3\u001b[0m cmc \u001b[38;5;241m=\u001b[39m CoinMarketCapAPI()\n\u001b[0;32m      5\u001b[0m rep \u001b[38;5;241m=\u001b[39m cmc\u001b[38;5;241m.\u001b[39mcryptocurrency_info(symbol\u001b[38;5;241m=\u001b[39m\u001b[38;5;124m'\u001b[39m\u001b[38;5;124mBTC\u001b[39m\u001b[38;5;124m'\u001b[39m) \u001b[38;5;66;03m# See methods below\u001b[39;00m\n",
      "\u001b[1;31mModuleNotFoundError\u001b[0m: No module named 'coinmarketcapapi'"
     ]
    }
   ],
   "source": [
    "from coinmarketcapapi import CoinMarketCapAPI\n",
    "\n",
    "cmc = CoinMarketCapAPI()\n",
    "  \n",
    "rep = cmc.cryptocurrency_info(symbol='BTC') # See methods below\n",
    "\n",
    "print(rep.data)                 # Whole repsonse payload\n",
    "print(rep.data[\"BTC\"][\"logo\"])  # Some data in response\n",
    "print(rep.credit_count)         # API credits\n",
    "print(rep.total_elapsed)        # Request time in ms"
   ]
  },
  {
   "cell_type": "code",
   "execution_count": 44,
   "metadata": {},
   "outputs": [],
   "source": [
    "#cec3b7c2-b766-4e2e-8d74-1e73a009f94b"
   ]
  },
  {
   "cell_type": "code",
   "execution_count": 45,
   "metadata": {},
   "outputs": [],
   "source": [
    "import requests\n",
    "\n",
    "# Your API key here (make sure it's correct and valid)\n",
    "API_KEY = 'cec3b7c2-b766-4e2e-8d74-1e73a009f94b'\n",
    "\n",
    "headers = {\n",
    "    'Accepts': 'application/json',\n",
    "    'X-CMC_PRO_API_KEY': API_KEY,\n",
    "}\n",
    "\n",
    "# Example URL for the CoinMarketCap API (adjust according to the specific endpoint you're using)\n",
    "url = \"https://pro-api.coinmarketcap.com/v1/cryptocurrency/listings/latest\"\n",
    "\n",
    "response = requests.get(url, headers=headers)\n",
    "data = response.json()\n",
    "\n",
    "# Handle your data here\n"
   ]
  },
  {
   "cell_type": "code",
   "execution_count": 46,
   "metadata": {},
   "outputs": [
    {
     "name": "stdout",
     "output_type": "stream",
     "text": [
      "Error fetching data for BTC: 400\n",
      "Error fetching data for ETH: 400\n",
      "Error fetching data for LTC: 400\n"
     ]
    }
   ],
   "source": [
    "cryptos = ['BTC', 'ETH', 'LTC']  # Your list of cryptocurrencies\n",
    "\n",
    "for symbol in cryptos:\n",
    "    parameters = {\n",
    "        'symbol': symbol,\n",
    "        # Add other parameters here as needed, such as time range\n",
    "    }\n",
    "    response = requests.get(url, headers=headers, params=parameters)\n",
    "    \n",
    "    if response.status_code == 200:\n",
    "        # Successful request\n",
    "        data = response.json()\n",
    "        # Process your data here\n",
    "    else:\n",
    "        # Handle errors\n",
    "        print(f\"Error fetching data for {symbol}: {response.status_code}\")\n"
   ]
  },
  {
   "cell_type": "code",
   "execution_count": null,
   "metadata": {},
   "outputs": [],
   "source": []
  },
  {
   "cell_type": "code",
   "execution_count": 40,
   "metadata": {},
   "outputs": [
    {
     "name": "stdout",
     "output_type": "stream",
     "text": [
      "Error fetching data for BTC: 401\n",
      "Error fetching data for ETH: 401\n",
      "Error fetching data for LTC: 401\n"
     ]
    }
   ],
   "source": [
    "import requests\n",
    "import time\n",
    "\n",
    "def fetch_historical_data(symbol, time_start, time_end, api_key):\n",
    "    url = \"https://pro-api.coinmarketcap.com/v1/cryptocurrency/quotes/historical\"\n",
    "    parameters = {\n",
    "        'symbol': symbol,\n",
    "        'time_start': time_start,\n",
    "        'time_end': time_end,\n",
    "        'count': '10',  # Adjust as needed\n",
    "        'interval': 'daily',  # Can be 'daily', 'hourly', etc.\n",
    "    }\n",
    "    headers = {\n",
    "        'Accepts': 'application/json',\n",
    "        'X-CMC_PRO_API_KEY': api_key,\n",
    "    }\n",
    "\n",
    "    response = requests.get(url, headers=headers, params=parameters)\n",
    "    if response.status_code == 200:\n",
    "        return response.json()\n",
    "    else:\n",
    "        print(f\"Error fetching data for {symbol}: {response.status_code}\")\n",
    "        return None\n",
    "\n",
    "# List of cryptocurrencies you're interested in\n",
    "cryptos = ['BTC', 'ETH', 'LTC']\n",
    "api_key = '#cec3b7c2-b766-4e2e-8d74-1e73a009f94b'  # Replace with your actual API key\n",
    "\n",
    "# Time range for historical data\n",
    "time_start = '2023-01-01'\n",
    "time_end = '2023-01-31'\n",
    "\n",
    "for symbol in cryptos:\n",
    "    data = fetch_historical_data(symbol, time_start, time_end, api_key)\n",
    "    if data:\n",
    "        print(f\"Data for {symbol}: {data}\")\n",
    "    time.sleep(1)  # Sleep to respect rate limits, adjust as per API's rate limit guidelines\n"
   ]
  },
  {
   "cell_type": "code",
   "execution_count": null,
   "metadata": {},
   "outputs": [],
   "source": []
  },
  {
   "cell_type": "code",
   "execution_count": null,
   "metadata": {},
   "outputs": [],
   "source": []
  },
  {
   "cell_type": "code",
   "execution_count": 37,
   "metadata": {},
   "outputs": [
    {
     "ename": "AttributeError",
     "evalue": "'Crypto_Historic_Price' object has no attribute 'fetch_top_cryptos'",
     "output_type": "error",
     "traceback": [
      "\u001b[1;31m---------------------------------------------------------------------------\u001b[0m",
      "\u001b[1;31mAttributeError\u001b[0m                            Traceback (most recent call last)",
      "Cell \u001b[1;32mIn[37], line 106\u001b[0m\n\u001b[0;32m    103\u001b[0m         \u001b[38;5;28mprint\u001b[39m(\u001b[38;5;124m\"\u001b[39m\u001b[38;5;130;01m\\n\u001b[39;00m\u001b[38;5;124m\"\u001b[39m)  \u001b[38;5;66;03m# Add a newline for better readability between different cryptos\u001b[39;00m\n\u001b[0;32m    105\u001b[0m \u001b[38;5;28;01mif\u001b[39;00m \u001b[38;5;18m__name__\u001b[39m \u001b[38;5;241m==\u001b[39m \u001b[38;5;124m'\u001b[39m\u001b[38;5;124m__main__\u001b[39m\u001b[38;5;124m'\u001b[39m:\n\u001b[1;32m--> 106\u001b[0m     \u001b[43mmain\u001b[49m\u001b[43m(\u001b[49m\u001b[43m)\u001b[49m\n\u001b[0;32m    107\u001b[0m     \u001b[38;5;28mprint\u001b[39m(\u001b[38;5;124m\"\u001b[39m\u001b[38;5;124mDone\u001b[39m\u001b[38;5;124m\"\u001b[39m)\n",
      "Cell \u001b[1;32mIn[37], line 94\u001b[0m, in \u001b[0;36mmain\u001b[1;34m()\u001b[0m\n\u001b[0;32m     92\u001b[0m \u001b[38;5;28;01mdef\u001b[39;00m \u001b[38;5;21mmain\u001b[39m():\n\u001b[0;32m     93\u001b[0m     obj \u001b[38;5;241m=\u001b[39m Crypto_Historic_Price(currency\u001b[38;5;241m=\u001b[39m\u001b[38;5;124m'\u001b[39m\u001b[38;5;124musd\u001b[39m\u001b[38;5;124m'\u001b[39m)\n\u001b[1;32m---> 94\u001b[0m     top_cryptos \u001b[38;5;241m=\u001b[39m \u001b[43mobj\u001b[49m\u001b[38;5;241;43m.\u001b[39;49m\u001b[43mfetch_top_cryptos\u001b[49m(limit\u001b[38;5;241m=\u001b[39m\u001b[38;5;241m30\u001b[39m)\n\u001b[0;32m     96\u001b[0m     end_date \u001b[38;5;241m=\u001b[39m datetime\u001b[38;5;241m.\u001b[39mnow()\n\u001b[0;32m     97\u001b[0m     start_date \u001b[38;5;241m=\u001b[39m end_date \u001b[38;5;241m-\u001b[39m relativedelta(years\u001b[38;5;241m=\u001b[39m\u001b[38;5;241m1\u001b[39m)  \u001b[38;5;66;03m# Example: Fetch data for the last 1 year\u001b[39;00m\n",
      "\u001b[1;31mAttributeError\u001b[0m: 'Crypto_Historic_Price' object has no attribute 'fetch_top_cryptos'"
     ]
    }
   ],
   "source": [
    "#-------------------------------------------------------------------------------\n",
    "# Name      :   fetch_historic_price.py\n",
    "# Purpose   :   This Python script takes crypto tokens and \n",
    "#               fetch historic data via CoinGecko in Python\n",
    "# Author    :   Kiran Chandrashekhar\n",
    "# Webste    :   https://sapnaedu.com\n",
    "# Created   :   26-Dec-2022\n",
    "#-------------------------------------------------------------------------------\n",
    "\n",
    "import conf as settings\n",
    "import requests\n",
    "import json\n",
    "import time\n",
    "from datetime import datetime\n",
    "from dateutil.parser import parse\n",
    "from dateutil.relativedelta import relativedelta\n",
    "\n",
    "#---------------------------------------------------------\n",
    "#   Fetch Historic Market Price of a crypto from CoinGecko\n",
    "#   Get the API Key here: https://CoinGecko.com/\n",
    "#   Please refer to the complete API documentation here: \n",
    "#   https://www.coingecko.com/en/api\n",
    "#---------------------------------------------------------\n",
    "\n",
    "class Crypto_Historic_Price:\n",
    "    def __init__(self, currency='usd'):\n",
    "        self.currency = currency.lower()\n",
    "        #self.base_url = r'https://pro-api.coingecko.com/api/v3'  #Premium Account API URL\n",
    "        self.base_url = r'https://api.coingecko.com/api/v3'      #Free Account  \n",
    "    \n",
    "    #---------------------------------------\n",
    "    #   Convert Date to UNIX Timestamp\n",
    "    #---------------------------------------\n",
    "    def populate_date(self, date1):\n",
    "     \n",
    "        if isinstance(date1, datetime):                        \n",
    "            return int(time.mktime(date1.timetuple()))\n",
    "\n",
    "        elif isinstance(date1, str):            \n",
    "            date2 = parse(date1)\n",
    "            return  int(time.mktime(date2.timetuple()))\n",
    "\n",
    "        return None\n",
    "  \n",
    "\n",
    "    #-------------------------------------------------\n",
    "    #   Fetch Historic Market Price of a crypto via \n",
    "    #   CoinGecko\n",
    "    #-------------------------------------------------\n",
    "    def get_historic_price(self, token:str, start_date:str, end_date:str)->list:\n",
    "        url = f\"{self.base_url}/coins/{token}/market_chart/range\"\n",
    "\n",
    "        data = {} #Populate Parameters     \n",
    "        data['vs_currency'] = self.currency\n",
    "        data['from']= self.populate_date(start_date)\n",
    "        data['to']  = self.populate_date(end_date)        \n",
    "        \n",
    "        headers = {}       \n",
    "        headers['Content-type'] = 'application/json'\n",
    "        #headers['x_cg_pro_api_key'] = settings.API_KEY\n",
    "        \n",
    "        response = requests.get(url, headers=headers, params=data)\n",
    "\n",
    "        crypto_info = response.json()\n",
    "        #print(json.dumps(crypto_info, indent=4))\n",
    "\n",
    "        crypto_prices = []\n",
    "        for ind in crypto_info['prices']:\n",
    "            temp = []            \n",
    "            date1 = datetime.fromtimestamp(ind[0]/1000.0)\n",
    "            temp.extend([date1, ind[1]])\n",
    "            crypto_prices.append(temp)\n",
    "\n",
    "        return crypto_prices\n",
    "    \n",
    "    \n",
    "def fetch_top_cryptos(self, limit=30):\n",
    "    url = f\"{self.base_url}/coins/markets\"\n",
    "    params = {\n",
    "        'vs_currency': self.currency,\n",
    "        'order': 'market_cap_desc',\n",
    "        'per_page': limit,\n",
    "        'page': 1\n",
    "    }\n",
    "    response = requests.get(url, params=params)\n",
    "    cryptos = response.json()\n",
    "    top_cryptos = [crypto['id'] for crypto in cryptos]\n",
    "    return top_cryptos\n",
    "\n",
    "  \n",
    "\n",
    "def main():\n",
    "    obj = Crypto_Historic_Price(currency='usd')\n",
    "    top_cryptos = obj.fetch_top_cryptos(limit=30)\n",
    "    \n",
    "    end_date = datetime.now()\n",
    "    start_date = end_date - relativedelta(years=1)  # Example: Fetch data for the last 1 year\n",
    "\n",
    "    for token in top_cryptos:\n",
    "        print(f\"Fetching historical data for {token}...\")\n",
    "        price = obj.get_historic_price(token, start_date, end_date)\n",
    "        print(price)\n",
    "        print(\"\\n\")  # Add a newline for better readability between different cryptos\n",
    "\n",
    "if __name__ == '__main__':\n",
    "    main()\n",
    "    print(\"Done\")"
   ]
  },
  {
   "cell_type": "code",
   "execution_count": 20,
   "metadata": {},
   "outputs": [
    {
     "ename": "NameError",
     "evalue": "name 'crypto_prices' is not defined",
     "output_type": "error",
     "traceback": [
      "\u001b[1;31m---------------------------------------------------------------------------\u001b[0m",
      "\u001b[1;31mNameError\u001b[0m                                 Traceback (most recent call last)",
      "Cell \u001b[1;32mIn[20], line 1\u001b[0m\n\u001b[1;32m----> 1\u001b[0m \u001b[43mcrypto_prices\u001b[49m\n",
      "\u001b[1;31mNameError\u001b[0m: name 'crypto_prices' is not defined"
     ]
    }
   ],
   "source": [
    "crypto_prices"
   ]
  },
  {
   "cell_type": "code",
   "execution_count": null,
   "metadata": {},
   "outputs": [],
   "source": []
  },
  {
   "cell_type": "code",
   "execution_count": 21,
   "metadata": {},
   "outputs": [
    {
     "data": {
      "text/plain": [
       "['bitcoin',\n",
       " 'ethereum',\n",
       " 'tether',\n",
       " 'binancecoin',\n",
       " 'solana',\n",
       " 'ripple',\n",
       " 'staked-ether',\n",
       " 'usd-coin',\n",
       " 'cardano',\n",
       " 'avalanche-2',\n",
       " 'tron',\n",
       " 'dogecoin',\n",
       " 'chainlink',\n",
       " 'polkadot',\n",
       " 'matic-network',\n",
       " 'wrapped-bitcoin',\n",
       " 'the-open-network',\n",
       " 'internet-computer',\n",
       " 'shiba-inu',\n",
       " 'uniswap',\n",
       " 'bitcoin-cash',\n",
       " 'litecoin',\n",
       " 'dai',\n",
       " 'immutable-x',\n",
       " 'bittensor',\n",
       " 'kaspa',\n",
       " 'cosmos',\n",
       " 'leo-token',\n",
       " 'blockstack',\n",
       " 'filecoin']"
      ]
     },
     "execution_count": 21,
     "metadata": {},
     "output_type": "execute_result"
    }
   ],
   "source": [
    "import requests\n",
    "import pandas as pd\n",
    "\n",
    "def fetch_top_coins_list(vs_currency='usd', limit=30):\n",
    "    url = 'https://api.coingecko.com/api/v3/coins/markets'\n",
    "    params = {\n",
    "        'vs_currency': vs_currency,\n",
    "        'order': 'market_cap_desc',\n",
    "        'per_page': limit,\n",
    "        'page': 1,\n",
    "        'sparkline': False,\n",
    "        'price_change_percentage': '24h'\n",
    "    }\n",
    "    response = requests.get(url, params=params)\n",
    "    data = response.json()\n",
    "    \n",
    "    # Extract coin IDs\n",
    "    coin_ids = [coin['id'] for coin in data]\n",
    "    return coin_ids\n",
    "\n",
    "\n",
    "# Fetch top 30 coins\n",
    "top_coins = fetch_top_coins_list()\n",
    "top_coins"
   ]
  },
  {
   "cell_type": "code",
   "execution_count": 5,
   "metadata": {},
   "outputs": [],
   "source": [
    "\n",
    "def fetch_historical_data(coin_id='bitcoin', vs_currency='usd', days='max', interval='daily'):\n",
    "    url = f'https://api.coingecko.com/api/v3/coins/{coin_id}/market_chart'\n",
    "    params = {\n",
    "        'vs_currency': vs_currency,\n",
    "        'days': days,\n",
    "        'interval': interval\n",
    "    }\n",
    "    response = requests.get(url, params=params)\n",
    "    data = response.json()\n",
    "    \n",
    "    prices = data['prices']  # List of [timestamp, price]\n",
    "    volumes = data['total_volumes']  # List of [timestamp, volume]\n",
    "    market_caps = data['market_caps']  # List of [timestamp, market_cap]\n",
    "    \n",
    "    # Convert to DataFrame for easier handling\n",
    "    df = pd.DataFrame(prices, columns=['Timestamp', 'Price'])\n",
    "    df['Volume'] = pd.DataFrame(volumes)[1]\n",
    "    df['Market Cap'] = pd.DataFrame(market_caps)[1]\n",
    "    df['Timestamp'] = pd.to_datetime(df['Timestamp'], unit='ms')\n",
    "    \n",
    "    return df"
   ]
  },
  {
   "cell_type": "code",
   "execution_count": 6,
   "metadata": {},
   "outputs": [
    {
     "ename": "NameError",
     "evalue": "name 'top_coins' is not defined",
     "output_type": "error",
     "traceback": [
      "\u001b[1;31m---------------------------------------------------------------------------\u001b[0m",
      "\u001b[1;31mNameError\u001b[0m                                 Traceback (most recent call last)",
      "Cell \u001b[1;32mIn[6], line 3\u001b[0m\n\u001b[0;32m      1\u001b[0m \u001b[38;5;66;03m# Fetch historical data for each coin\u001b[39;00m\n\u001b[0;32m      2\u001b[0m historical_data \u001b[38;5;241m=\u001b[39m {}\n\u001b[1;32m----> 3\u001b[0m \u001b[38;5;28;01mfor\u001b[39;00m coin_id \u001b[38;5;129;01min\u001b[39;00m \u001b[43mtop_coins\u001b[49m:\n\u001b[0;32m      4\u001b[0m     \u001b[38;5;28mprint\u001b[39m(\u001b[38;5;124mf\u001b[39m\u001b[38;5;124m\"\u001b[39m\u001b[38;5;124mFetching data for \u001b[39m\u001b[38;5;132;01m{\u001b[39;00mcoin_id\u001b[38;5;132;01m}\u001b[39;00m\u001b[38;5;124m...\u001b[39m\u001b[38;5;124m\"\u001b[39m)\n\u001b[0;32m      5\u001b[0m     df \u001b[38;5;241m=\u001b[39m fetch_historical_data(coin_id)\n",
      "\u001b[1;31mNameError\u001b[0m: name 'top_coins' is not defined"
     ]
    }
   ],
   "source": [
    "# Fetch historical data for each coin\n",
    "historical_data = {}\n",
    "for coin_id in top_coins:\n",
    "    print(f\"Fetching data for {coin_id}...\")\n",
    "    df = fetch_historical_data(coin_id)\n",
    "    historical_data[coin_id] = df"
   ]
  }
 ],
 "metadata": {
  "kernelspec": {
   "display_name": "Python 3",
   "language": "python",
   "name": "python3"
  },
  "language_info": {
   "codemirror_mode": {
    "name": "ipython",
    "version": 3
   },
   "file_extension": ".py",
   "mimetype": "text/x-python",
   "name": "python",
   "nbconvert_exporter": "python",
   "pygments_lexer": "ipython3",
   "version": "3.9.13"
  }
 },
 "nbformat": 4,
 "nbformat_minor": 2
}

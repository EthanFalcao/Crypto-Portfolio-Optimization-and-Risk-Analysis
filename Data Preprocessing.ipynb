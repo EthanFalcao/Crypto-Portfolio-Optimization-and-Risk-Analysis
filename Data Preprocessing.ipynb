{
 "cells": [
  {
   "cell_type": "markdown",
   "metadata": {},
   "source": [
    "# Crypto Portfolio Optimization"
   ]
  },
  {
   "cell_type": "markdown",
   "metadata": {},
   "source": [
    "Goal: Create a machine learning-driven portfolio optimization system for cryptocurrencies, dynamically adjusting allocations to maximize returns and minimize risks based on predictive analytics."
   ]
  },
  {
   "cell_type": "markdown",
   "metadata": {},
   "source": [
    "### Top crypto cryptocurrencies "
   ]
  },
  {
   "cell_type": "code",
   "execution_count": 21,
   "metadata": {},
   "outputs": [],
   "source": [
    "import requests\n",
    "import pandas as pd"
   ]
  },
  {
   "cell_type": "markdown",
   "metadata": {},
   "source": [
    "##### Coingecko API to get the top 25 cryptos "
   ]
  },
  {
   "cell_type": "code",
   "execution_count": 22,
   "metadata": {},
   "outputs": [],
   "source": [
    "#&x_cg_demo_api_key=CG-pFKvtbHvwbPpHAPBrgU7a9yc"
   ]
  },
  {
   "cell_type": "code",
   "execution_count": 23,
   "metadata": {},
   "outputs": [],
   "source": [
    "def fetch_top_coins_tickers(vs_currency='usd', limit=30):\n",
    "    url = 'https://api.coingecko.com/api/v3/coins/markets?vs_currency=usd&ids&x_cg_demo_api_key=CG-pFKvtbHvwbPpHAPBrgU7a9yc'\n",
    "    params = {\n",
    "        'vs_currency': vs_currency,\n",
    "        'order': 'market_cap_desc',\n",
    "        'per_page': limit,\n",
    "        'page': 1,\n",
    "        'sparkline': False,\n",
    "        'price_change_percentage': '24h'\n",
    "    }\n",
    "    response = requests.get(url, params=params)\n",
    "    if response.status_code != 200:\n",
    "        print(f\"Error fetching data: Status code {response.status_code}\")\n",
    "        return []\n",
    "\n",
    "    data = response.json()\n",
    "\n",
    "##Extract tickers\n",
    "    tickers = [coin['symbol'].upper() for coin in data]\n",
    "    return tickers"
   ]
  },
  {
   "cell_type": "code",
   "execution_count": 24,
   "metadata": {},
   "outputs": [
    {
     "name": "stdout",
     "output_type": "stream",
     "text": [
      "['BTC', 'ETH', 'USDT', 'BNB', 'SOL', 'XRP', 'STETH', 'USDC', 'ADA', 'AVAX', 'TRX', 'DOGE', 'LINK', 'DOT', 'MATIC', 'UNI', 'WBTC', 'TON', 'ICP', 'SHIB']\n"
     ]
    }
   ],
   "source": [
    "top_coins = fetch_top_coins_tickers(vs_currency='usd', limit=20)\n",
    "print(top_coins)"
   ]
  },
  {
   "cell_type": "markdown",
   "metadata": {},
   "source": [
    "##### yfinance (historical data)"
   ]
  },
  {
   "cell_type": "code",
   "execution_count": 25,
   "metadata": {},
   "outputs": [
    {
     "name": "stderr",
     "output_type": "stream",
     "text": [
      "[*********************100%%**********************]  1 of 1 completed"
     ]
    },
    {
     "name": "stderr",
     "output_type": "stream",
     "text": [
      "\n",
      "[*********************100%%**********************]  1 of 1 completed\n",
      "[*********************100%%**********************]  1 of 1 completed\n",
      "[*********************100%%**********************]  1 of 1 completed\n",
      "[*********************100%%**********************]  1 of 1 completed\n",
      "[*********************100%%**********************]  1 of 1 completed\n",
      "[*********************100%%**********************]  1 of 1 completed\n",
      "[*********************100%%**********************]  1 of 1 completed\n",
      "[*********************100%%**********************]  1 of 1 completed"
     ]
    },
    {
     "name": "stdout",
     "output_type": "stream",
     "text": [
      "Fetching data for BTC-USD...\n",
      "Fetching data for ETH-USD...\n",
      "Fetching data for USDT-USD...\n",
      "Fetching data for BNB-USD...\n",
      "Fetching data for SOL-USD...\n",
      "Fetching data for XRP-USD...\n",
      "Fetching data for STETH-USD...\n",
      "Fetching data for USDC-USD...\n",
      "Fetching data for ADA-USD...\n",
      "Fetching data for AVAX-USD...\n"
     ]
    },
    {
     "name": "stderr",
     "output_type": "stream",
     "text": [
      "\n",
      "[*********************100%%**********************]  1 of 1 completed"
     ]
    },
    {
     "name": "stdout",
     "output_type": "stream",
     "text": [
      "Fetching data for TRX-USD...\n"
     ]
    },
    {
     "name": "stderr",
     "output_type": "stream",
     "text": [
      "\n",
      "[*********************100%%**********************]  1 of 1 completed\n",
      "[*********************100%%**********************]  1 of 1 completed\n",
      "[*********************100%%**********************]  1 of 1 completed\n",
      "[*********************100%%**********************]  1 of 1 completed\n",
      "[*********************100%%**********************]  1 of 1 completed\n",
      "[*********************100%%**********************]  1 of 1 completed\n",
      "[*********************100%%**********************]  1 of 1 completed\n",
      "[*********************100%%**********************]  1 of 1 completed\n",
      "[*********************100%%**********************]  1 of 1 completed\n",
      "[*********************100%%**********************]  1 of 1 completed"
     ]
    },
    {
     "name": "stdout",
     "output_type": "stream",
     "text": [
      "Fetching data for DOGE-USD...\n",
      "Fetching data for LINK-USD...\n",
      "Fetching data for DOT-USD...\n",
      "Fetching data for MATIC-USD...\n",
      "Fetching data for UNI-USD...\n",
      "Fetching data for WBTC-USD...\n",
      "Fetching data for TON-USD...\n",
      "Fetching data for ICP-USD...\n",
      "Fetching data for SHIB-USD...\n"
     ]
    },
    {
     "name": "stderr",
     "output_type": "stream",
     "text": [
      "\n"
     ]
    }
   ],
   "source": [
    "import yfinance as yf\n",
    "\n",
    "\n",
    "# Specify the symbols for the cryptocurrencies you are interested in\n",
    "symbols = [f\"{coin}-USD\" for coin in top_coins]  \n",
    "\n",
    "\n",
    "df = pd.DataFrame()\n",
    "\n",
    "# Specify the date range\n",
    "start_date = '2020-12-31'\n",
    "end_date = '2024-02-21'\n",
    "\n",
    "# Fetch the historical data for each symbol\n",
    "for symbol in symbols:\n",
    "    print(f\"Fetching data for {symbol}...\")\n",
    "    data = yf.download(symbol, start=start_date, end=end_date)\n",
    "    if not data.empty:\n",
    "        data['Symbol'] = symbol.replace('-USD', '')  \n",
    "        df = pd.concat([df, data], axis=0)\n",
    "\n",
    "\n",
    "df.reset_index(inplace=True)\n",
    "\n",
    "\n"
   ]
  },
  {
   "cell_type": "code",
   "execution_count": 26,
   "metadata": {},
   "outputs": [
    {
     "name": "stdout",
     "output_type": "stream",
     "text": [
      "<class 'pandas.core.frame.DataFrame'>\n",
      "RangeIndex: 22799 entries, 0 to 22798\n",
      "Data columns (total 8 columns):\n",
      " #   Column     Non-Null Count  Dtype         \n",
      "---  ------     --------------  -----         \n",
      " 0   Date       22799 non-null  datetime64[ns]\n",
      " 1   Open       22799 non-null  float64       \n",
      " 2   High       22799 non-null  float64       \n",
      " 3   Low        22799 non-null  float64       \n",
      " 4   Close      22799 non-null  float64       \n",
      " 5   Adj Close  22799 non-null  float64       \n",
      " 6   Volume     22799 non-null  int64         \n",
      " 7   Symbol     22799 non-null  object        \n",
      "dtypes: datetime64[ns](1), float64(5), int64(1), object(1)\n",
      "memory usage: 1.4+ MB\n"
     ]
    }
   ],
   "source": [
    "df.info()"
   ]
  },
  {
   "cell_type": "markdown",
   "metadata": {},
   "source": [
    "### Crypto History Data - data cleansing "
   ]
  },
  {
   "cell_type": "code",
   "execution_count": 27,
   "metadata": {},
   "outputs": [],
   "source": [
    "df[\"Date\"] = pd.to_datetime(df[\"Date\"])\n",
    "df = df.rename(columns={'Volume': 'Volume($)'})"
   ]
  },
  {
   "cell_type": "code",
   "execution_count": 28,
   "metadata": {},
   "outputs": [],
   "source": [
    "#df['date'] = df['Date'].combine_first(df['index']).combine_first(df['Date'])\n",
    "#df.drop(['index','Date'], axis=1, inplace=True)\n",
    "#df=df[['date', 'Symbol', 'Open', 'High', 'Low', 'Close', 'Adj Close', 'Volume', 'Market Cap']]        "
   ]
  },
  {
   "cell_type": "code",
   "execution_count": 29,
   "metadata": {},
   "outputs": [
    {
     "data": {
      "text/plain": [
       "Date         0\n",
       "Open         0\n",
       "High         0\n",
       "Low          0\n",
       "Close        0\n",
       "Adj Close    0\n",
       "Volume($)    0\n",
       "Symbol       0\n",
       "dtype: int64"
      ]
     },
     "execution_count": 29,
     "metadata": {},
     "output_type": "execute_result"
    }
   ],
   "source": [
    "df.isnull().sum()"
   ]
  },
  {
   "cell_type": "code",
   "execution_count": 32,
   "metadata": {},
   "outputs": [],
   "source": [
    "# Convert the 'Date' column to datetime format for proper sorting\n",
    "df['Date'] = pd.to_datetime(df['Date'])\n",
    "\n",
    "# Calculate daily returns for each cryptocurrency\n",
    "df['Daily Return'] = df.groupby('Symbol')['Close'].pct_change()\n",
    "\n",
    "df = df[df['Date'] != '2020-12-31']"
   ]
  },
  {
   "cell_type": "code",
   "execution_count": 41,
   "metadata": {},
   "outputs": [
    {
     "data": {
      "text/plain": [
       "Date            0\n",
       "Open            0\n",
       "High            0\n",
       "Low             0\n",
       "Close           0\n",
       "Adj Close       0\n",
       "Volume($)       0\n",
       "Symbol          0\n",
       "Daily Return    0\n",
       "dtype: int64"
      ]
     },
     "execution_count": 41,
     "metadata": {},
     "output_type": "execute_result"
    }
   ],
   "source": [
    "df.isnull().sum()"
   ]
  },
  {
   "cell_type": "code",
   "execution_count": 38,
   "metadata": {},
   "outputs": [
    {
     "data": {
      "text/html": [
       "<div>\n",
       "<style scoped>\n",
       "    .dataframe tbody tr th:only-of-type {\n",
       "        vertical-align: middle;\n",
       "    }\n",
       "\n",
       "    .dataframe tbody tr th {\n",
       "        vertical-align: top;\n",
       "    }\n",
       "\n",
       "    .dataframe thead th {\n",
       "        text-align: right;\n",
       "    }\n",
       "</style>\n",
       "<table border=\"1\" class=\"dataframe\">\n",
       "  <thead>\n",
       "    <tr style=\"text-align: right;\">\n",
       "      <th></th>\n",
       "      <th>Symbol</th>\n",
       "      <th>Close</th>\n",
       "    </tr>\n",
       "  </thead>\n",
       "  <tbody>\n",
       "    <tr>\n",
       "      <th>1096</th>\n",
       "      <td>BTC</td>\n",
       "      <td>44167.332031</td>\n",
       "    </tr>\n",
       "    <tr>\n",
       "      <th>19448</th>\n",
       "      <td>WBTC</td>\n",
       "      <td>44080.980469</td>\n",
       "    </tr>\n",
       "    <tr>\n",
       "      <th>2243</th>\n",
       "      <td>ETH</td>\n",
       "      <td>2352.327881</td>\n",
       "    </tr>\n",
       "    <tr>\n",
       "      <th>7978</th>\n",
       "      <td>STETH</td>\n",
       "      <td>2340.830322</td>\n",
       "    </tr>\n",
       "    <tr>\n",
       "      <th>4537</th>\n",
       "      <td>BNB</td>\n",
       "      <td>314.408295</td>\n",
       "    </tr>\n",
       "    <tr>\n",
       "      <th>5684</th>\n",
       "      <td>SOL</td>\n",
       "      <td>109.508682</td>\n",
       "    </tr>\n",
       "    <tr>\n",
       "      <th>11419</th>\n",
       "      <td>AVAX</td>\n",
       "      <td>41.864464</td>\n",
       "    </tr>\n",
       "    <tr>\n",
       "      <th>14860</th>\n",
       "      <td>LINK</td>\n",
       "      <td>15.535809</td>\n",
       "    </tr>\n",
       "    <tr>\n",
       "      <th>21612</th>\n",
       "      <td>ICP</td>\n",
       "      <td>12.962581</td>\n",
       "    </tr>\n",
       "    <tr>\n",
       "      <th>16007</th>\n",
       "      <td>DOT</td>\n",
       "      <td>8.598925</td>\n",
       "    </tr>\n",
       "    <tr>\n",
       "      <th>20595</th>\n",
       "      <td>TON</td>\n",
       "      <td>2.259897</td>\n",
       "    </tr>\n",
       "    <tr>\n",
       "      <th>17154</th>\n",
       "      <td>MATIC</td>\n",
       "      <td>1.015652</td>\n",
       "    </tr>\n",
       "    <tr>\n",
       "      <th>3390</th>\n",
       "      <td>USDT</td>\n",
       "      <td>1.000368</td>\n",
       "    </tr>\n",
       "    <tr>\n",
       "      <th>9125</th>\n",
       "      <td>USDC</td>\n",
       "      <td>1.000131</td>\n",
       "    </tr>\n",
       "    <tr>\n",
       "      <th>6831</th>\n",
       "      <td>XRP</td>\n",
       "      <td>0.630082</td>\n",
       "    </tr>\n",
       "    <tr>\n",
       "      <th>10272</th>\n",
       "      <td>ADA</td>\n",
       "      <td>0.623110</td>\n",
       "    </tr>\n",
       "    <tr>\n",
       "      <th>12566</th>\n",
       "      <td>TRX</td>\n",
       "      <td>0.107812</td>\n",
       "    </tr>\n",
       "    <tr>\n",
       "      <th>13713</th>\n",
       "      <td>DOGE</td>\n",
       "      <td>0.092024</td>\n",
       "    </tr>\n",
       "    <tr>\n",
       "      <th>18301</th>\n",
       "      <td>UNI</td>\n",
       "      <td>0.000221</td>\n",
       "    </tr>\n",
       "    <tr>\n",
       "      <th>22748</th>\n",
       "      <td>SHIB</td>\n",
       "      <td>0.000011</td>\n",
       "    </tr>\n",
       "  </tbody>\n",
       "</table>\n",
       "</div>"
      ],
      "text/plain": [
       "      Symbol         Close\n",
       "1096     BTC  44167.332031\n",
       "19448   WBTC  44080.980469\n",
       "2243     ETH   2352.327881\n",
       "7978   STETH   2340.830322\n",
       "4537     BNB    314.408295\n",
       "5684     SOL    109.508682\n",
       "11419   AVAX     41.864464\n",
       "14860   LINK     15.535809\n",
       "21612    ICP     12.962581\n",
       "16007    DOT      8.598925\n",
       "20595    TON      2.259897\n",
       "17154  MATIC      1.015652\n",
       "3390    USDT      1.000368\n",
       "9125    USDC      1.000131\n",
       "6831     XRP      0.630082\n",
       "10272    ADA      0.623110\n",
       "12566    TRX      0.107812\n",
       "13713   DOGE      0.092024\n",
       "18301    UNI      0.000221\n",
       "22748   SHIB      0.000011"
      ]
     },
     "execution_count": 38,
     "metadata": {},
     "output_type": "execute_result"
    }
   ],
   "source": [
    "# Assuming 'df' is the DataFrame containing the data\n",
    "# First, filter the DataFrame for the date Jan 1, 2024\n",
    "df_filtered_date = df[df['Date'] == '2024-01-01']\n",
    "\n",
    "# Now sort this filtered DataFrame based on the 'Close' column to rank the cryptocurrencies\n",
    "df_sorted_by_close = df_filtered_date.sort_values(by='Close', ascending=False)\n",
    "\n",
    "# The ranking is implicit in the sorted DataFrame - the first row has the highest closing price and so on\n",
    "df_sorted_by_close[['Symbol', 'Close']]  # Displaying only the relevant columns for clarity\n"
   ]
  },
  {
   "cell_type": "code",
   "execution_count": 37,
   "metadata": {},
   "outputs": [
    {
     "data": {
      "text/html": [
       "<div>\n",
       "<style scoped>\n",
       "    .dataframe tbody tr th:only-of-type {\n",
       "        vertical-align: middle;\n",
       "    }\n",
       "\n",
       "    .dataframe tbody tr th {\n",
       "        vertical-align: top;\n",
       "    }\n",
       "\n",
       "    .dataframe thead th {\n",
       "        text-align: right;\n",
       "    }\n",
       "</style>\n",
       "<table border=\"1\" class=\"dataframe\">\n",
       "  <thead>\n",
       "    <tr style=\"text-align: right;\">\n",
       "      <th></th>\n",
       "      <th>Date</th>\n",
       "      <th>Open</th>\n",
       "      <th>High</th>\n",
       "      <th>Low</th>\n",
       "      <th>Close</th>\n",
       "      <th>Adj Close</th>\n",
       "      <th>Volume($)</th>\n",
       "      <th>Symbol</th>\n",
       "      <th>Daily Return</th>\n",
       "    </tr>\n",
       "  </thead>\n",
       "  <tbody>\n",
       "    <tr>\n",
       "      <th>20646</th>\n",
       "      <td>2021-05-10</td>\n",
       "      <td>0.0</td>\n",
       "      <td>750.730469</td>\n",
       "      <td>0.0</td>\n",
       "      <td>428.362305</td>\n",
       "      <td>428.362305</td>\n",
       "      <td>290834080</td>\n",
       "      <td>ICP</td>\n",
       "      <td>NaN</td>\n",
       "    </tr>\n",
       "    <tr>\n",
       "      <th>21663</th>\n",
       "      <td>2021-01-02</td>\n",
       "      <td>0.0</td>\n",
       "      <td>0.000000</td>\n",
       "      <td>0.0</td>\n",
       "      <td>0.000000</td>\n",
       "      <td>0.000000</td>\n",
       "      <td>78</td>\n",
       "      <td>SHIB</td>\n",
       "      <td>NaN</td>\n",
       "    </tr>\n",
       "    <tr>\n",
       "      <th>21664</th>\n",
       "      <td>2021-01-03</td>\n",
       "      <td>0.0</td>\n",
       "      <td>0.000000</td>\n",
       "      <td>0.0</td>\n",
       "      <td>0.000000</td>\n",
       "      <td>0.000000</td>\n",
       "      <td>2</td>\n",
       "      <td>SHIB</td>\n",
       "      <td>NaN</td>\n",
       "    </tr>\n",
       "    <tr>\n",
       "      <th>21665</th>\n",
       "      <td>2021-01-05</td>\n",
       "      <td>0.0</td>\n",
       "      <td>0.000000</td>\n",
       "      <td>0.0</td>\n",
       "      <td>0.000000</td>\n",
       "      <td>0.000000</td>\n",
       "      <td>18</td>\n",
       "      <td>SHIB</td>\n",
       "      <td>NaN</td>\n",
       "    </tr>\n",
       "    <tr>\n",
       "      <th>21666</th>\n",
       "      <td>2021-01-09</td>\n",
       "      <td>0.0</td>\n",
       "      <td>0.000000</td>\n",
       "      <td>0.0</td>\n",
       "      <td>0.000000</td>\n",
       "      <td>0.000000</td>\n",
       "      <td>201</td>\n",
       "      <td>SHIB</td>\n",
       "      <td>NaN</td>\n",
       "    </tr>\n",
       "    <tr>\n",
       "      <th>...</th>\n",
       "      <td>...</td>\n",
       "      <td>...</td>\n",
       "      <td>...</td>\n",
       "      <td>...</td>\n",
       "      <td>...</td>\n",
       "      <td>...</td>\n",
       "      <td>...</td>\n",
       "      <td>...</td>\n",
       "      <td>...</td>\n",
       "    </tr>\n",
       "    <tr>\n",
       "      <th>21753</th>\n",
       "      <td>2021-04-11</td>\n",
       "      <td>0.0</td>\n",
       "      <td>0.000000</td>\n",
       "      <td>0.0</td>\n",
       "      <td>0.000000</td>\n",
       "      <td>0.000000</td>\n",
       "      <td>6995583</td>\n",
       "      <td>SHIB</td>\n",
       "      <td>NaN</td>\n",
       "    </tr>\n",
       "    <tr>\n",
       "      <th>21754</th>\n",
       "      <td>2021-04-12</td>\n",
       "      <td>0.0</td>\n",
       "      <td>0.000000</td>\n",
       "      <td>0.0</td>\n",
       "      <td>0.000000</td>\n",
       "      <td>0.000000</td>\n",
       "      <td>17561875</td>\n",
       "      <td>SHIB</td>\n",
       "      <td>NaN</td>\n",
       "    </tr>\n",
       "    <tr>\n",
       "      <th>21755</th>\n",
       "      <td>2021-04-13</td>\n",
       "      <td>0.0</td>\n",
       "      <td>0.000000</td>\n",
       "      <td>0.0</td>\n",
       "      <td>0.000000</td>\n",
       "      <td>0.000000</td>\n",
       "      <td>13314013</td>\n",
       "      <td>SHIB</td>\n",
       "      <td>NaN</td>\n",
       "    </tr>\n",
       "    <tr>\n",
       "      <th>21756</th>\n",
       "      <td>2021-04-14</td>\n",
       "      <td>0.0</td>\n",
       "      <td>0.000000</td>\n",
       "      <td>0.0</td>\n",
       "      <td>0.000000</td>\n",
       "      <td>0.000000</td>\n",
       "      <td>6349137</td>\n",
       "      <td>SHIB</td>\n",
       "      <td>NaN</td>\n",
       "    </tr>\n",
       "    <tr>\n",
       "      <th>21757</th>\n",
       "      <td>2021-04-15</td>\n",
       "      <td>0.0</td>\n",
       "      <td>0.000000</td>\n",
       "      <td>0.0</td>\n",
       "      <td>0.000000</td>\n",
       "      <td>0.000000</td>\n",
       "      <td>14718200</td>\n",
       "      <td>SHIB</td>\n",
       "      <td>NaN</td>\n",
       "    </tr>\n",
       "  </tbody>\n",
       "</table>\n",
       "<p>96 rows × 9 columns</p>\n",
       "</div>"
      ],
      "text/plain": [
       "            Date  Open        High  Low       Close   Adj Close  Volume($)  \\\n",
       "20646 2021-05-10   0.0  750.730469  0.0  428.362305  428.362305  290834080   \n",
       "21663 2021-01-02   0.0    0.000000  0.0    0.000000    0.000000         78   \n",
       "21664 2021-01-03   0.0    0.000000  0.0    0.000000    0.000000          2   \n",
       "21665 2021-01-05   0.0    0.000000  0.0    0.000000    0.000000         18   \n",
       "21666 2021-01-09   0.0    0.000000  0.0    0.000000    0.000000        201   \n",
       "...          ...   ...         ...  ...         ...         ...        ...   \n",
       "21753 2021-04-11   0.0    0.000000  0.0    0.000000    0.000000    6995583   \n",
       "21754 2021-04-12   0.0    0.000000  0.0    0.000000    0.000000   17561875   \n",
       "21755 2021-04-13   0.0    0.000000  0.0    0.000000    0.000000   13314013   \n",
       "21756 2021-04-14   0.0    0.000000  0.0    0.000000    0.000000    6349137   \n",
       "21757 2021-04-15   0.0    0.000000  0.0    0.000000    0.000000   14718200   \n",
       "\n",
       "      Symbol  Daily Return  \n",
       "20646    ICP           NaN  \n",
       "21663   SHIB           NaN  \n",
       "21664   SHIB           NaN  \n",
       "21665   SHIB           NaN  \n",
       "21666   SHIB           NaN  \n",
       "...      ...           ...  \n",
       "21753   SHIB           NaN  \n",
       "21754   SHIB           NaN  \n",
       "21755   SHIB           NaN  \n",
       "21756   SHIB           NaN  \n",
       "21757   SHIB           NaN  \n",
       "\n",
       "[96 rows x 9 columns]"
      ]
     },
     "execution_count": 37,
     "metadata": {},
     "output_type": "execute_result"
    }
   ],
   "source": [
    "rows_with_null = df[df.isnull().any(axis=1)]\n",
    "\n",
    "rows_with_null"
   ]
  },
  {
   "cell_type": "code",
   "execution_count": 45,
   "metadata": {},
   "outputs": [
    {
     "data": {
      "text/plain": [
       "array(['BTC', 'ETH', 'USDT', 'BNB', 'SOL', 'XRP', 'STETH', 'USDC', 'ADA',\n",
       "       'AVAX', 'TRX', 'DOGE', 'LINK', 'DOT', 'MATIC', 'UNI', 'WBTC',\n",
       "       'TON'], dtype=object)"
      ]
     },
     "execution_count": 45,
     "metadata": {},
     "output_type": "execute_result"
    }
   ],
   "source": [
    "df['Symbol'].unique()"
   ]
  },
  {
   "cell_type": "code",
   "execution_count": 46,
   "metadata": {},
   "outputs": [],
   "source": [
    "# removed wrapped coins and the stable coin 'usdc' as they won't help in diversify  my portfolio \n",
    "# Define the symbols to exclude\n",
    "exclude_symbols = ['SHIB', 'ICP','STETH','WBTC','USDC','UNI']\n",
    "\n",
    "# Filter the DataFrame to exclude the defined symbols\n",
    "df = df[~df['Symbol'].isin(exclude_symbols)]\n"
   ]
  },
  {
   "cell_type": "code",
   "execution_count": 47,
   "metadata": {},
   "outputs": [
    {
     "data": {
      "text/html": [
       "<div>\n",
       "<style scoped>\n",
       "    .dataframe tbody tr th:only-of-type {\n",
       "        vertical-align: middle;\n",
       "    }\n",
       "\n",
       "    .dataframe tbody tr th {\n",
       "        vertical-align: top;\n",
       "    }\n",
       "\n",
       "    .dataframe thead th {\n",
       "        text-align: right;\n",
       "    }\n",
       "</style>\n",
       "<table border=\"1\" class=\"dataframe\">\n",
       "  <thead>\n",
       "    <tr style=\"text-align: right;\">\n",
       "      <th></th>\n",
       "      <th>Date</th>\n",
       "      <th>Open</th>\n",
       "      <th>High</th>\n",
       "      <th>Low</th>\n",
       "      <th>Close</th>\n",
       "      <th>Adj Close</th>\n",
       "      <th>Volume($)</th>\n",
       "      <th>Symbol</th>\n",
       "      <th>Daily Return</th>\n",
       "    </tr>\n",
       "  </thead>\n",
       "  <tbody>\n",
       "    <tr>\n",
       "      <th>1</th>\n",
       "      <td>2021-01-01</td>\n",
       "      <td>28994.009766</td>\n",
       "      <td>29600.626953</td>\n",
       "      <td>28803.585938</td>\n",
       "      <td>29374.152344</td>\n",
       "      <td>29374.152344</td>\n",
       "      <td>40730301359</td>\n",
       "      <td>BTC</td>\n",
       "      <td>0.012842</td>\n",
       "    </tr>\n",
       "    <tr>\n",
       "      <th>2</th>\n",
       "      <td>2021-01-02</td>\n",
       "      <td>29376.455078</td>\n",
       "      <td>33155.117188</td>\n",
       "      <td>29091.181641</td>\n",
       "      <td>32127.267578</td>\n",
       "      <td>32127.267578</td>\n",
       "      <td>67865420765</td>\n",
       "      <td>BTC</td>\n",
       "      <td>0.093726</td>\n",
       "    </tr>\n",
       "    <tr>\n",
       "      <th>3</th>\n",
       "      <td>2021-01-03</td>\n",
       "      <td>32129.408203</td>\n",
       "      <td>34608.558594</td>\n",
       "      <td>32052.316406</td>\n",
       "      <td>32782.023438</td>\n",
       "      <td>32782.023438</td>\n",
       "      <td>78665235202</td>\n",
       "      <td>BTC</td>\n",
       "      <td>0.020380</td>\n",
       "    </tr>\n",
       "    <tr>\n",
       "      <th>4</th>\n",
       "      <td>2021-01-04</td>\n",
       "      <td>32810.949219</td>\n",
       "      <td>33440.218750</td>\n",
       "      <td>28722.755859</td>\n",
       "      <td>31971.914062</td>\n",
       "      <td>31971.914062</td>\n",
       "      <td>81163475344</td>\n",
       "      <td>BTC</td>\n",
       "      <td>-0.024712</td>\n",
       "    </tr>\n",
       "    <tr>\n",
       "      <th>5</th>\n",
       "      <td>2021-01-05</td>\n",
       "      <td>31977.041016</td>\n",
       "      <td>34437.589844</td>\n",
       "      <td>30221.187500</td>\n",
       "      <td>33992.429688</td>\n",
       "      <td>33992.429688</td>\n",
       "      <td>67547324782</td>\n",
       "      <td>BTC</td>\n",
       "      <td>0.063197</td>\n",
       "    </tr>\n",
       "  </tbody>\n",
       "</table>\n",
       "</div>"
      ],
      "text/plain": [
       "        Date          Open          High           Low         Close  \\\n",
       "1 2021-01-01  28994.009766  29600.626953  28803.585938  29374.152344   \n",
       "2 2021-01-02  29376.455078  33155.117188  29091.181641  32127.267578   \n",
       "3 2021-01-03  32129.408203  34608.558594  32052.316406  32782.023438   \n",
       "4 2021-01-04  32810.949219  33440.218750  28722.755859  31971.914062   \n",
       "5 2021-01-05  31977.041016  34437.589844  30221.187500  33992.429688   \n",
       "\n",
       "      Adj Close    Volume($) Symbol  Daily Return  \n",
       "1  29374.152344  40730301359    BTC      0.012842  \n",
       "2  32127.267578  67865420765    BTC      0.093726  \n",
       "3  32782.023438  78665235202    BTC      0.020380  \n",
       "4  31971.914062  81163475344    BTC     -0.024712  \n",
       "5  33992.429688  67547324782    BTC      0.063197  "
      ]
     },
     "execution_count": 47,
     "metadata": {},
     "output_type": "execute_result"
    }
   ],
   "source": [
    "df.head()"
   ]
  },
  {
   "cell_type": "code",
   "execution_count": 49,
   "metadata": {},
   "outputs": [],
   "source": [
    "df.to_csv('data/top_crypto.csv', index=False)"
   ]
  }
 ],
 "metadata": {
  "kernelspec": {
   "display_name": "base",
   "language": "python",
   "name": "python3"
  },
  "language_info": {
   "codemirror_mode": {
    "name": "ipython",
    "version": 3
   },
   "file_extension": ".py",
   "mimetype": "text/x-python",
   "name": "python",
   "nbconvert_exporter": "python",
   "pygments_lexer": "ipython3",
   "version": "3.9.12"
  }
 },
 "nbformat": 4,
 "nbformat_minor": 2
}

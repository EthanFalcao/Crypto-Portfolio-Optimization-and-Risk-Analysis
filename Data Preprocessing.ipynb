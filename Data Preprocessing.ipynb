{
 "cells": [
  {
   "cell_type": "markdown",
   "metadata": {},
   "source": [
    "# Crypto Portfolio Optimization"
   ]
  },
  {
   "cell_type": "markdown",
   "metadata": {},
   "source": [
    "Goal: Create a machine learning-driven portfolio optimization system for cryptocurrencies, dynamically adjusting allocations to maximize returns and minimize risks based on predictive analytics."
   ]
  },
  {
   "cell_type": "markdown",
   "metadata": {},
   "source": [
    "### Top crypto cryptocurrencies "
   ]
  },
  {
   "cell_type": "code",
   "execution_count": 159,
   "metadata": {},
   "outputs": [],
   "source": [
    "import requests\n",
    "import pandas as pd"
   ]
  },
  {
   "cell_type": "markdown",
   "metadata": {},
   "source": [
    "##### Coingecko to get the top 30 cryptos "
   ]
  },
  {
   "cell_type": "code",
   "execution_count": 160,
   "metadata": {},
   "outputs": [],
   "source": [
    "#&x_cg_demo_api_key=CG-pFKvtbHvwbPpHAPBrgU7a9yc"
   ]
  },
  {
   "cell_type": "code",
   "execution_count": 161,
   "metadata": {},
   "outputs": [],
   "source": [
    "def fetch_top_coins_tickers(vs_currency='usd', limit=30):\n",
    "    url = 'https://api.coingecko.com/api/v3/coins/markets?vs_currency=usd&ids&x_cg_demo_api_key=CG-pFKvtbHvwbPpHAPBrgU7a9yc'\n",
    "    params = {\n",
    "        'vs_currency': vs_currency,\n",
    "        'order': 'market_cap_desc',\n",
    "        'per_page': limit,\n",
    "        'page': 1,\n",
    "        'sparkline': False,\n",
    "        'price_change_percentage': '24h'\n",
    "    }\n",
    "    response = requests.get(url, params=params)\n",
    "    if response.status_code != 200:\n",
    "        print(f\"Error fetching data: Status code {response.status_code}\")\n",
    "        return []\n",
    "\n",
    "    data = response.json()\n",
    "\n",
    "##Extract tickers\n",
    "    tickers = [coin['symbol'].upper() for coin in data]\n",
    "    return tickers"
   ]
  },
  {
   "cell_type": "code",
   "execution_count": 162,
   "metadata": {},
   "outputs": [
    {
     "name": "stdout",
     "output_type": "stream",
     "text": [
      "['BTC', 'ETH', 'USDT', 'BNB', 'SOL', 'XRP', 'STETH', 'USDC', 'ADA', 'AVAX', 'TRX', 'DOGE', 'LINK', 'DOT', 'MATIC', 'WBTC', 'TON', 'ICP', 'SHIB', 'UNI', 'BCH', 'LTC', 'DAI', 'IMX', 'FIL']\n"
     ]
    }
   ],
   "source": [
    "top_coins = fetch_top_coins_tickers(vs_currency='usd', limit=25)\n",
    "print(top_coins)"
   ]
  },
  {
   "cell_type": "markdown",
   "metadata": {},
   "source": [
    "##### yfinance (historical data)"
   ]
  },
  {
   "cell_type": "code",
   "execution_count": 163,
   "metadata": {},
   "outputs": [
    {
     "name": "stderr",
     "output_type": "stream",
     "text": [
      "[*********************100%%**********************]  1 of 1 completed"
     ]
    },
    {
     "name": "stderr",
     "output_type": "stream",
     "text": [
      "\n",
      "[*********************100%%**********************]  1 of 1 completed\n",
      "[*********************100%%**********************]  1 of 1 completed\n",
      "[*********************100%%**********************]  1 of 1 completed\n",
      "[*********************100%%**********************]  1 of 1 completed\n",
      "[*********************100%%**********************]  1 of 1 completed"
     ]
    },
    {
     "name": "stdout",
     "output_type": "stream",
     "text": [
      "Fetching data for BTC-USD...\n",
      "Fetching data for ETH-USD...\n",
      "Fetching data for USDT-USD...\n",
      "Fetching data for BNB-USD...\n",
      "Fetching data for SOL-USD...\n",
      "Fetching data for XRP-USD...\n"
     ]
    },
    {
     "name": "stderr",
     "output_type": "stream",
     "text": [
      "\n",
      "[*********************100%%**********************]  1 of 1 completed\n",
      "[*********************100%%**********************]  1 of 1 completed\n",
      "[*********************100%%**********************]  1 of 1 completed\n",
      "[*********************100%%**********************]  1 of 1 completed\n",
      "[*********************100%%**********************]  1 of 1 completed\n",
      "[*********************100%%**********************]  1 of 1 completed"
     ]
    },
    {
     "name": "stdout",
     "output_type": "stream",
     "text": [
      "Fetching data for STETH-USD...\n",
      "Fetching data for USDC-USD...\n",
      "Fetching data for ADA-USD...\n",
      "Fetching data for AVAX-USD...\n",
      "Fetching data for TRX-USD...\n",
      "Fetching data for DOGE-USD...\n"
     ]
    },
    {
     "name": "stderr",
     "output_type": "stream",
     "text": [
      "\n",
      "[*********************100%%**********************]  1 of 1 completed\n",
      "[*********************100%%**********************]  1 of 1 completed\n",
      "[*********************100%%**********************]  1 of 1 completed\n",
      "[*********************100%%**********************]  1 of 1 completed\n",
      "[*********************100%%**********************]  1 of 1 completed\n"
     ]
    },
    {
     "name": "stdout",
     "output_type": "stream",
     "text": [
      "Fetching data for LINK-USD...\n",
      "Fetching data for DOT-USD...\n",
      "Fetching data for MATIC-USD...\n",
      "Fetching data for WBTC-USD...\n",
      "Fetching data for TON-USD...\n",
      "Fetching data for ICP-USD...\n"
     ]
    },
    {
     "name": "stderr",
     "output_type": "stream",
     "text": [
      "[*********************100%%**********************]  1 of 1 completed\n",
      "[*********************100%%**********************]  1 of 1 completed\n",
      "[*********************100%%**********************]  1 of 1 completed\n",
      "[*********************100%%**********************]  1 of 1 completed\n",
      "[*********************100%%**********************]  1 of 1 completed\n",
      "[*********************100%%**********************]  1 of 1 completed\n",
      "[*********************100%%**********************]  1 of 1 completed"
     ]
    },
    {
     "name": "stdout",
     "output_type": "stream",
     "text": [
      "Fetching data for SHIB-USD...\n",
      "Fetching data for UNI-USD...\n",
      "Fetching data for BCH-USD...\n",
      "Fetching data for LTC-USD...\n",
      "Fetching data for DAI-USD...\n",
      "Fetching data for IMX-USD...\n"
     ]
    },
    {
     "name": "stderr",
     "output_type": "stream",
     "text": [
      "\n",
      "[*********************100%%**********************]  1 of 1 completed"
     ]
    },
    {
     "name": "stdout",
     "output_type": "stream",
     "text": [
      "Fetching data for FIL-USD...\n"
     ]
    },
    {
     "name": "stderr",
     "output_type": "stream",
     "text": [
      "\n"
     ]
    }
   ],
   "source": [
    "import yfinance as yf\n",
    "import pandas as pd\n",
    "\n",
    "# Specify the symbols for the cryptocurrencies you are interested in\n",
    "symbols = [f\"{coin}-USD\" for coin in top_coins]  # Assuming 'top_coins' is a list of cryptocurrency symbols\n",
    "\n",
    "# Initialize an empty DataFrame for concatenating all cryptocurrency data\n",
    "df = pd.DataFrame()\n",
    "\n",
    "# Specify the date range\n",
    "start_date = '2021-01-01'\n",
    "end_date = '2024-02-21'\n",
    "\n",
    "# Fetch the historical data for each symbol\n",
    "for symbol in symbols:\n",
    "    print(f\"Fetching data for {symbol}...\")\n",
    "    data = yf.download(symbol, start=start_date, end=end_date)\n",
    "    if not data.empty:\n",
    "        data['Symbol'] = symbol.replace('-USD', '')  # Add a 'Symbol' column to identify the cryptocurrency\n",
    "        df = pd.concat([all_data, data], axis=0)\n",
    "\n",
    "# Reset the index of the concatenated DataFrame\n",
    "df.reset_index(inplace=True)\n",
    "\n",
    "\n"
   ]
  },
  {
   "cell_type": "code",
   "execution_count": 164,
   "metadata": {},
   "outputs": [
    {
     "data": {
      "text/html": [
       "<div>\n",
       "<style scoped>\n",
       "    .dataframe tbody tr th:only-of-type {\n",
       "        vertical-align: middle;\n",
       "    }\n",
       "\n",
       "    .dataframe tbody tr th {\n",
       "        vertical-align: top;\n",
       "    }\n",
       "\n",
       "    .dataframe thead th {\n",
       "        text-align: right;\n",
       "    }\n",
       "</style>\n",
       "<table border=\"1\" class=\"dataframe\">\n",
       "  <thead>\n",
       "    <tr style=\"text-align: right;\">\n",
       "      <th></th>\n",
       "      <th>Date</th>\n",
       "      <th>Open</th>\n",
       "      <th>High</th>\n",
       "      <th>Low</th>\n",
       "      <th>Close</th>\n",
       "      <th>Adj Close</th>\n",
       "      <th>Volume</th>\n",
       "      <th>Symbol</th>\n",
       "    </tr>\n",
       "  </thead>\n",
       "  <tbody>\n",
       "    <tr>\n",
       "      <th>0</th>\n",
       "      <td>2021-01-01</td>\n",
       "      <td>28994.009766</td>\n",
       "      <td>29600.626953</td>\n",
       "      <td>28803.585938</td>\n",
       "      <td>29374.152344</td>\n",
       "      <td>29374.152344</td>\n",
       "      <td>40730301359</td>\n",
       "      <td>BTC</td>\n",
       "    </tr>\n",
       "    <tr>\n",
       "      <th>1</th>\n",
       "      <td>2021-01-02</td>\n",
       "      <td>29376.455078</td>\n",
       "      <td>33155.117188</td>\n",
       "      <td>29091.181641</td>\n",
       "      <td>32127.267578</td>\n",
       "      <td>32127.267578</td>\n",
       "      <td>67865420765</td>\n",
       "      <td>BTC</td>\n",
       "    </tr>\n",
       "    <tr>\n",
       "      <th>2</th>\n",
       "      <td>2021-01-03</td>\n",
       "      <td>32129.408203</td>\n",
       "      <td>34608.558594</td>\n",
       "      <td>32052.316406</td>\n",
       "      <td>32782.023438</td>\n",
       "      <td>32782.023438</td>\n",
       "      <td>78665235202</td>\n",
       "      <td>BTC</td>\n",
       "    </tr>\n",
       "    <tr>\n",
       "      <th>3</th>\n",
       "      <td>2021-01-04</td>\n",
       "      <td>32810.949219</td>\n",
       "      <td>33440.218750</td>\n",
       "      <td>28722.755859</td>\n",
       "      <td>31971.914062</td>\n",
       "      <td>31971.914062</td>\n",
       "      <td>81163475344</td>\n",
       "      <td>BTC</td>\n",
       "    </tr>\n",
       "    <tr>\n",
       "      <th>4</th>\n",
       "      <td>2021-01-05</td>\n",
       "      <td>31977.041016</td>\n",
       "      <td>34437.589844</td>\n",
       "      <td>30221.187500</td>\n",
       "      <td>33992.429688</td>\n",
       "      <td>33992.429688</td>\n",
       "      <td>67547324782</td>\n",
       "      <td>BTC</td>\n",
       "    </tr>\n",
       "    <tr>\n",
       "      <th>...</th>\n",
       "      <td>...</td>\n",
       "      <td>...</td>\n",
       "      <td>...</td>\n",
       "      <td>...</td>\n",
       "      <td>...</td>\n",
       "      <td>...</td>\n",
       "      <td>...</td>\n",
       "      <td>...</td>\n",
       "    </tr>\n",
       "    <tr>\n",
       "      <th>2024-02-16 00:00:00</th>\n",
       "      <td>NaT</td>\n",
       "      <td>5.867093</td>\n",
       "      <td>5.985244</td>\n",
       "      <td>5.662748</td>\n",
       "      <td>5.795270</td>\n",
       "      <td>5.795270</td>\n",
       "      <td>197993160</td>\n",
       "      <td>FIL</td>\n",
       "    </tr>\n",
       "    <tr>\n",
       "      <th>2024-02-17 00:00:00</th>\n",
       "      <td>NaT</td>\n",
       "      <td>5.795997</td>\n",
       "      <td>6.377146</td>\n",
       "      <td>5.710954</td>\n",
       "      <td>6.199124</td>\n",
       "      <td>6.199124</td>\n",
       "      <td>456255634</td>\n",
       "      <td>FIL</td>\n",
       "    </tr>\n",
       "    <tr>\n",
       "      <th>2024-02-18 00:00:00</th>\n",
       "      <td>NaT</td>\n",
       "      <td>6.200620</td>\n",
       "      <td>6.421569</td>\n",
       "      <td>6.070881</td>\n",
       "      <td>6.275468</td>\n",
       "      <td>6.275468</td>\n",
       "      <td>318232526</td>\n",
       "      <td>FIL</td>\n",
       "    </tr>\n",
       "    <tr>\n",
       "      <th>2024-02-19 00:00:00</th>\n",
       "      <td>NaT</td>\n",
       "      <td>6.275813</td>\n",
       "      <td>7.770802</td>\n",
       "      <td>6.230459</td>\n",
       "      <td>7.427044</td>\n",
       "      <td>7.427044</td>\n",
       "      <td>797819922</td>\n",
       "      <td>FIL</td>\n",
       "    </tr>\n",
       "    <tr>\n",
       "      <th>2024-02-20 00:00:00</th>\n",
       "      <td>NaT</td>\n",
       "      <td>7.425651</td>\n",
       "      <td>7.982930</td>\n",
       "      <td>7.230259</td>\n",
       "      <td>7.731977</td>\n",
       "      <td>7.731977</td>\n",
       "      <td>1226925111</td>\n",
       "      <td>FIL</td>\n",
       "    </tr>\n",
       "  </tbody>\n",
       "</table>\n",
       "<p>151150 rows × 8 columns</p>\n",
       "</div>"
      ],
      "text/plain": [
       "                          Date          Open          High           Low  \\\n",
       "0                   2021-01-01  28994.009766  29600.626953  28803.585938   \n",
       "1                   2021-01-02  29376.455078  33155.117188  29091.181641   \n",
       "2                   2021-01-03  32129.408203  34608.558594  32052.316406   \n",
       "3                   2021-01-04  32810.949219  33440.218750  28722.755859   \n",
       "4                   2021-01-05  31977.041016  34437.589844  30221.187500   \n",
       "...                        ...           ...           ...           ...   \n",
       "2024-02-16 00:00:00        NaT      5.867093      5.985244      5.662748   \n",
       "2024-02-17 00:00:00        NaT      5.795997      6.377146      5.710954   \n",
       "2024-02-18 00:00:00        NaT      6.200620      6.421569      6.070881   \n",
       "2024-02-19 00:00:00        NaT      6.275813      7.770802      6.230459   \n",
       "2024-02-20 00:00:00        NaT      7.425651      7.982930      7.230259   \n",
       "\n",
       "                            Close     Adj Close       Volume Symbol  \n",
       "0                    29374.152344  29374.152344  40730301359    BTC  \n",
       "1                    32127.267578  32127.267578  67865420765    BTC  \n",
       "2                    32782.023438  32782.023438  78665235202    BTC  \n",
       "3                    31971.914062  31971.914062  81163475344    BTC  \n",
       "4                    33992.429688  33992.429688  67547324782    BTC  \n",
       "...                           ...           ...          ...    ...  \n",
       "2024-02-16 00:00:00      5.795270      5.795270    197993160    FIL  \n",
       "2024-02-17 00:00:00      6.199124      6.199124    456255634    FIL  \n",
       "2024-02-18 00:00:00      6.275468      6.275468    318232526    FIL  \n",
       "2024-02-19 00:00:00      7.427044      7.427044    797819922    FIL  \n",
       "2024-02-20 00:00:00      7.731977      7.731977   1226925111    FIL  \n",
       "\n",
       "[151150 rows x 8 columns]"
      ]
     },
     "execution_count": 164,
     "metadata": {},
     "output_type": "execute_result"
    }
   ],
   "source": [
    "all_data"
   ]
  }
 ],
 "metadata": {
  "kernelspec": {
   "display_name": "base",
   "language": "python",
   "name": "python3"
  },
  "language_info": {
   "codemirror_mode": {
    "name": "ipython",
    "version": 3
   },
   "file_extension": ".py",
   "mimetype": "text/x-python",
   "name": "python",
   "nbconvert_exporter": "python",
   "pygments_lexer": "ipython3",
   "version": "3.9.13"
  }
 },
 "nbformat": 4,
 "nbformat_minor": 2
}
